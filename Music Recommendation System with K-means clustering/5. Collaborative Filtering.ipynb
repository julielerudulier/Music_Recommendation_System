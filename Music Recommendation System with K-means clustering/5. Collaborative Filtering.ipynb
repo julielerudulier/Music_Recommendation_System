{
 "cells": [
  {
   "cell_type": "markdown",
   "id": "bdc3ec4b",
   "metadata": {},
   "source": [
    "# **Collaborative Filtering** "
   ]
  },
  {
   "cell_type": "code",
   "execution_count": 1,
   "id": "aba1e7de",
   "metadata": {},
   "outputs": [],
   "source": [
    "import pandas as pd\n",
    "import numpy as np\n",
    "import matplotlib.pyplot as plt\n",
    "%matplotlib inline\n",
    "import seaborn as sns\n",
    "sns.set_theme()\n",
    "import warnings\n",
    "warnings.filterwarnings('ignore')"
   ]
  },
  {
   "cell_type": "markdown",
   "id": "9793a492",
   "metadata": {},
   "source": [
    "## **Import datasets and feature engineering**"
   ]
  },
  {
   "cell_type": "code",
   "execution_count": 2,
   "id": "5561ee88",
   "metadata": {
    "scrolled": false
   },
   "outputs": [],
   "source": [
    "dataset = pd.read_csv(\"dataset.csv\", sep = ',', index_col = 0)\n",
    "\n",
    "dataset = dataset.drop_duplicates(keep = 'first')\n",
    "\n",
    "dataset = dataset.drop(dataset[dataset['track_id'] == '1kR4gIb7nGxHPI3D2ifs59'].index)\n",
    "\n",
    "dataset['artists'] = dataset['artists'].str.replace(';',', ')\n",
    "\n",
    "dataset['artist_track'] = dataset[['artists', 'track_name']].agg(', '.join, axis = 1)\n",
    "\n",
    "dataset = dataset.drop(columns = ['artists', 'album_name', 'track_name', 'duration_ms', 'explicit', 'track_id',\n",
    "                                  'time_signature'])"
   ]
  },
  {
   "cell_type": "code",
   "execution_count": 3,
   "id": "f1897d45",
   "metadata": {},
   "outputs": [],
   "source": [
    "dtypes = {'coordinates':str,\n",
    "          'instrumentalness':float,\n",
    "          'liveness':float,\n",
    "          'speechiness':float,\n",
    "          'danceability':float,\n",
    "          'valence':float,\n",
    "          'loudness':float,\n",
    "          'tempo':float,\n",
    "          'acousticness':float,\n",
    "          'energy':float,\n",
    "          'mode':int,\n",
    "          'key':int,\n",
    "          'artist_id':str,\n",
    "          'place':str,\n",
    "          'geo':str,\n",
    "          'tweet_lang':str,\n",
    "          'track_id':str,\n",
    "          'created_at':object,\n",
    "          'lang':str,\n",
    "          'time_zone':str,\n",
    "          'user_id':str,\n",
    "          'id':str,\n",
    "          'extra':str}\n",
    "\n",
    "names = ['coordinates', 'instrumentalness', 'liveness', 'speechiness', 'danceability', 'valence', 'loudness', \n",
    "         'tempo', 'acousticness', 'energy', 'mode', 'key', 'artist_id', 'place', 'geo', 'tweet_lang', 'track_id', \n",
    "         'created_at', 'lang', 'time_zone', 'user_id', 'id', 'extra',]\n",
    "\n",
    "ccf = pd.read_csv('context_content_features.csv', sep = ',', names = names, skiprows = 1)\n",
    "ccf = ccf.drop(columns = ['coordinates', 'place', 'geo', 'tweet_lang', 'lang', 'time_zone', 'id', 'extra',\n",
    "                         'artist_id'])\n",
    "ccf = ccf.drop_duplicates()"
   ]
  },
  {
   "cell_type": "markdown",
   "id": "e3723799",
   "metadata": {},
   "source": [
    "#  "
   ]
  },
  {
   "cell_type": "markdown",
   "id": "2e07fe5d",
   "metadata": {},
   "source": [
    "## **Create a dataset with common data**"
   ]
  },
  {
   "cell_type": "code",
   "execution_count": 4,
   "id": "46a03824",
   "metadata": {
    "scrolled": false
   },
   "outputs": [
    {
     "data": {
      "text/html": [
       "<div>\n",
       "<style scoped>\n",
       "    .dataframe tbody tr th:only-of-type {\n",
       "        vertical-align: middle;\n",
       "    }\n",
       "\n",
       "    .dataframe tbody tr th {\n",
       "        vertical-align: top;\n",
       "    }\n",
       "\n",
       "    .dataframe thead th {\n",
       "        text-align: right;\n",
       "    }\n",
       "</style>\n",
       "<table border=\"1\" class=\"dataframe\">\n",
       "  <thead>\n",
       "    <tr style=\"text-align: right;\">\n",
       "      <th></th>\n",
       "      <th>popularity</th>\n",
       "      <th>track_genre</th>\n",
       "      <th>artist_track</th>\n",
       "      <th>track_id</th>\n",
       "      <th>created_at</th>\n",
       "      <th>user_id</th>\n",
       "    </tr>\n",
       "  </thead>\n",
       "  <tbody>\n",
       "    <tr>\n",
       "      <th>0</th>\n",
       "      <td>68</td>\n",
       "      <td>acoustic</td>\n",
       "      <td>Ron Pope, A Drop in the Ocean</td>\n",
       "      <td>531cef60f62729778e5c7cade58cca12</td>\n",
       "      <td>2014-01-03 19:42:53</td>\n",
       "      <td>124626736.00000</td>\n",
       "    </tr>\n",
       "    <tr>\n",
       "      <th>1</th>\n",
       "      <td>68</td>\n",
       "      <td>acoustic</td>\n",
       "      <td>Ron Pope, A Drop in the Ocean</td>\n",
       "      <td>531cef60f62729778e5c7cade58cca12</td>\n",
       "      <td>2014-01-04 13:39:23</td>\n",
       "      <td>1340091181.00000</td>\n",
       "    </tr>\n",
       "    <tr>\n",
       "      <th>2</th>\n",
       "      <td>68</td>\n",
       "      <td>acoustic</td>\n",
       "      <td>Ron Pope, A Drop in the Ocean</td>\n",
       "      <td>531cef60f62729778e5c7cade58cca12</td>\n",
       "      <td>2014-01-05 04:25:58</td>\n",
       "      <td>1313663000.00000</td>\n",
       "    </tr>\n",
       "    <tr>\n",
       "      <th>3</th>\n",
       "      <td>68</td>\n",
       "      <td>acoustic</td>\n",
       "      <td>Ron Pope, A Drop in the Ocean</td>\n",
       "      <td>531cef60f62729778e5c7cade58cca12</td>\n",
       "      <td>2014-01-08 02:54:18</td>\n",
       "      <td>354961155.00000</td>\n",
       "    </tr>\n",
       "    <tr>\n",
       "      <th>4</th>\n",
       "      <td>68</td>\n",
       "      <td>acoustic</td>\n",
       "      <td>Ron Pope, A Drop in the Ocean</td>\n",
       "      <td>531cef60f62729778e5c7cade58cca12</td>\n",
       "      <td>2014-01-08 15:29:21</td>\n",
       "      <td>225403852.00000</td>\n",
       "    </tr>\n",
       "  </tbody>\n",
       "</table>\n",
       "</div>"
      ],
      "text/plain": [
       "   popularity track_genre                   artist_track  \\\n",
       "0          68    acoustic  Ron Pope, A Drop in the Ocean   \n",
       "1          68    acoustic  Ron Pope, A Drop in the Ocean   \n",
       "2          68    acoustic  Ron Pope, A Drop in the Ocean   \n",
       "3          68    acoustic  Ron Pope, A Drop in the Ocean   \n",
       "4          68    acoustic  Ron Pope, A Drop in the Ocean   \n",
       "\n",
       "                           track_id           created_at          user_id  \n",
       "0  531cef60f62729778e5c7cade58cca12  2014-01-03 19:42:53  124626736.00000  \n",
       "1  531cef60f62729778e5c7cade58cca12  2014-01-04 13:39:23 1340091181.00000  \n",
       "2  531cef60f62729778e5c7cade58cca12  2014-01-05 04:25:58 1313663000.00000  \n",
       "3  531cef60f62729778e5c7cade58cca12  2014-01-08 02:54:18  354961155.00000  \n",
       "4  531cef60f62729778e5c7cade58cca12  2014-01-08 15:29:21  225403852.00000  "
      ]
     },
     "execution_count": 4,
     "metadata": {},
     "output_type": "execute_result"
    }
   ],
   "source": [
    "pd.set_option('display.float_format', lambda x: '%.5f' % x)\n",
    "\n",
    "df = dataset.merge(ccf, how = 'inner', on = ['instrumentalness','liveness','speechiness','danceability','valence', \n",
    "                                             'loudness','tempo','acousticness','energy','mode','key'])\n",
    "\n",
    "df = df.drop(columns = ['key', 'danceability', 'energy', 'loudness', 'mode', 'speechiness', 'acousticness', \n",
    "                        'instrumentalness', 'liveness', 'valence', 'tempo'])\n",
    "\n",
    "df = df.drop_duplicates()\n",
    "df = df.dropna()\n",
    "df.head()"
   ]
  },
  {
   "cell_type": "code",
   "execution_count": 5,
   "id": "f6aec2a4",
   "metadata": {},
   "outputs": [
    {
     "name": "stdout",
     "output_type": "stream",
     "text": [
      "Le dataset compte 64167 lignes au total, pour un nombre d'utilisateurs uniques de 10568 .\n",
      "Le nombre moyen de morceaux écoutés par utilisateur est donc 6.0 .\n",
      "Ce jeu de données contient 212 morceaux uniques dans 69 genres différents.\n",
      "Le genre qui revient le plus souvent est le genre soul avec 2 morceaux différents, présents 23071 fois dans notre jeu de données.\n",
      "Ces 2 morceaux représentent donc à eux seuls 36.0 % des morceaux de notre dataset.\n",
      "La valeur moyenne de popularité pour l'ensemble des morceaux du jeu de données est 70.0 .\n"
     ]
    }
   ],
   "source": [
    "# Data Analysis \n",
    "print(\"Le dataset compte\",len(df),\"lignes au total, pour un nombre d'utilisateurs uniques de\",\n",
    "      df['user_id'].nunique(),\".\")\n",
    "\n",
    "print(\"Le nombre moyen de morceaux écoutés par utilisateur est donc\",\n",
    "      np.round(len(df)/df['user_id'].nunique(), decimals = 0),\".\")\n",
    "\n",
    "print(\"Ce jeu de données contient\",df['artist_track'].nunique(),\"morceaux uniques dans\",\n",
    "      df['track_genre'].nunique(),\"genres différents.\")\n",
    "\n",
    "print(\"Le genre qui revient le plus souvent est le genre\",df['track_genre'].mode()[0],\"avec\",\n",
    "      df[df['track_genre'] == 'soul'].nunique()[2],\"morceaux différents, présents\",\n",
    "      df['track_genre'].value_counts()[0],\"fois dans notre jeu de données.\")\n",
    "print(\"Ces\",df[df['track_genre'] == 'soul'].nunique()[2],\"morceaux représentent donc à eux seuls\",\n",
    "      np.round(df['track_genre'].value_counts()[0]/len(df)*100, decimals = 0),\"% des morceaux de notre dataset.\")\n",
    "print(\"La valeur moyenne de popularité pour l'ensemble des morceaux du jeu de données est\",\n",
    "      np.round(df['popularity'].mean(), decimals = 0),\".\")"
   ]
  },
  {
   "cell_type": "markdown",
   "id": "1b9e1f2e",
   "metadata": {},
   "source": [
    "#  "
   ]
  },
  {
   "cell_type": "markdown",
   "id": "00aaf937",
   "metadata": {},
   "source": [
    "## **Recommendation Function** "
   ]
  },
  {
   "cell_type": "code",
   "execution_count": 6,
   "id": "e0ac4947",
   "metadata": {},
   "outputs": [
    {
     "data": {
      "text/html": [
       "<div>\n",
       "<style scoped>\n",
       "    .dataframe tbody tr th:only-of-type {\n",
       "        vertical-align: middle;\n",
       "    }\n",
       "\n",
       "    .dataframe tbody tr th {\n",
       "        vertical-align: top;\n",
       "    }\n",
       "\n",
       "    .dataframe thead th {\n",
       "        text-align: right;\n",
       "    }\n",
       "</style>\n",
       "<table border=\"1\" class=\"dataframe\">\n",
       "  <thead>\n",
       "    <tr style=\"text-align: right;\">\n",
       "      <th></th>\n",
       "      <th>artist_track</th>\n",
       "      <th>track_genre</th>\n",
       "      <th>popularity</th>\n",
       "    </tr>\n",
       "  </thead>\n",
       "  <tbody>\n",
       "    <tr>\n",
       "      <th>37432</th>\n",
       "      <td>John Legend, All of Me</td>\n",
       "      <td>soul</td>\n",
       "      <td>85</td>\n",
       "    </tr>\n",
       "    <tr>\n",
       "      <th>4292</th>\n",
       "      <td>Gorillaz, Feel Good Inc.</td>\n",
       "      <td>alternative</td>\n",
       "      <td>84</td>\n",
       "    </tr>\n",
       "    <tr>\n",
       "      <th>4243</th>\n",
       "      <td>Foo Fighters, Learn to Fly</td>\n",
       "      <td>alt-rock</td>\n",
       "      <td>77</td>\n",
       "    </tr>\n",
       "    <tr>\n",
       "      <th>61104</th>\n",
       "      <td>Alejandro Sanz, Corazón partío</td>\n",
       "      <td>spanish</td>\n",
       "      <td>76</td>\n",
       "    </tr>\n",
       "    <tr>\n",
       "      <th>60592</th>\n",
       "      <td>Jarabe De Palo, La flaca</td>\n",
       "      <td>spanish</td>\n",
       "      <td>76</td>\n",
       "    </tr>\n",
       "    <tr>\n",
       "      <th>...</th>\n",
       "      <td>...</td>\n",
       "      <td>...</td>\n",
       "      <td>...</td>\n",
       "    </tr>\n",
       "    <tr>\n",
       "      <th>29699</th>\n",
       "      <td>Clannad, Theme from Harry's Game</td>\n",
       "      <td>new-age</td>\n",
       "      <td>21</td>\n",
       "    </tr>\n",
       "    <tr>\n",
       "      <th>29946</th>\n",
       "      <td>Mike Oldfield, Ghost Bells</td>\n",
       "      <td>new-age</td>\n",
       "      <td>21</td>\n",
       "    </tr>\n",
       "    <tr>\n",
       "      <th>13243</th>\n",
       "      <td>The Osborne Brothers, Bluegrass Concerto</td>\n",
       "      <td>bluegrass</td>\n",
       "      <td>20</td>\n",
       "    </tr>\n",
       "    <tr>\n",
       "      <th>63768</th>\n",
       "      <td>Jon Kennedy, Funk Construction</td>\n",
       "      <td>trip-hop</td>\n",
       "      <td>19</td>\n",
       "    </tr>\n",
       "    <tr>\n",
       "      <th>24615</th>\n",
       "      <td>Floyd Cramer, San Antonio Rose</td>\n",
       "      <td>honky-tonk</td>\n",
       "      <td>12</td>\n",
       "    </tr>\n",
       "  </tbody>\n",
       "</table>\n",
       "<p>86 rows × 3 columns</p>\n",
       "</div>"
      ],
      "text/plain": [
       "                                   artist_track  track_genre  popularity\n",
       "37432                    John Legend, All of Me         soul          85\n",
       "4292                   Gorillaz, Feel Good Inc.  alternative          84\n",
       "4243                 Foo Fighters, Learn to Fly     alt-rock          77\n",
       "61104            Alejandro Sanz, Corazón partío      spanish          76\n",
       "60592                  Jarabe De Palo, La flaca      spanish          76\n",
       "...                                         ...          ...         ...\n",
       "29699          Clannad, Theme from Harry's Game      new-age          21\n",
       "29946                Mike Oldfield, Ghost Bells      new-age          21\n",
       "13243  The Osborne Brothers, Bluegrass Concerto    bluegrass          20\n",
       "63768            Jon Kennedy, Funk Construction     trip-hop          19\n",
       "24615            Floyd Cramer, San Antonio Rose   honky-tonk          12\n",
       "\n",
       "[86 rows x 3 columns]"
      ]
     },
     "execution_count": 6,
     "metadata": {},
     "output_type": "execute_result"
    }
   ],
   "source": [
    "def reco_col(track):\n",
    "    users = list(df[df['artist_track'] == track]['user_id'].unique())\n",
    "    \n",
    "    genres = list(df[df['artist_track'] == track]['track_genre'].unique())\n",
    "\n",
    "    playlist = df.loc[df['user_id'].isin(users)]\n",
    "    playlist = playlist[playlist['artist_track'] != track]\n",
    "    playlist = playlist.drop_duplicates(subset = ['artist_track'])\n",
    "    playlist = playlist[~playlist['artist_track'].str.contains(track[:20])]\n",
    "    playlist = playlist.sort_values('popularity', ascending = False)\n",
    "    \n",
    "    return playlist.loc[:, [\"artist_track\",\"track_genre\",\"popularity\"]]\n",
    "\n",
    "track = \"Carl Douglas, Kung Fu Fighting\"\n",
    "reco_col(track)"
   ]
  }
 ],
 "metadata": {
  "kernelspec": {
   "display_name": "Python 3 (ipykernel)",
   "language": "python",
   "name": "python3"
  },
  "language_info": {
   "codemirror_mode": {
    "name": "ipython",
    "version": 3
   },
   "file_extension": ".py",
   "mimetype": "text/x-python",
   "name": "python",
   "nbconvert_exporter": "python",
   "pygments_lexer": "ipython3",
   "version": "3.9.13"
  }
 },
 "nbformat": 4,
 "nbformat_minor": 5
}
