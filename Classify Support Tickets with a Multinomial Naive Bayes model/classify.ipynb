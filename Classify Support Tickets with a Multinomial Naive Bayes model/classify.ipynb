{
 "cells": [
  {
   "cell_type": "code",
   "execution_count": 1,
   "id": "ad28aa7f-4a8a-4dd1-a49a-70c1fa61c1d1",
   "metadata": {},
   "outputs": [],
   "source": [
    "# Import packages\n",
    "import pandas as pd\n",
    "import numpy as np\n",
    "from sklearn.feature_extraction.text import CountVectorizer\n",
    "from sklearn.model_selection import train_test_split\n",
    "from sklearn.naive_bayes import MultinomialNB\n",
    "from sklearn.metrics import accuracy_score\n",
    "from sklearn.metrics import classification_report\n",
    "from sklearn.metrics import f1_score\n",
    "import warnings \n",
    "warnings.filterwarnings(\"ignore\")"
   ]
  },
  {
   "cell_type": "code",
   "execution_count": 2,
   "id": "3dc11dcc-fa70-4442-8e52-4e3496bce88e",
   "metadata": {},
   "outputs": [],
   "source": [
    "# Load data\n",
    "df = pd.read_csv(\"all_tickets.csv\")"
   ]
  },
  {
   "cell_type": "code",
   "execution_count": 3,
   "id": "bc5c5e0a-c80a-4239-b5b2-751814c6b8d1",
   "metadata": {},
   "outputs": [],
   "source": [
    "# Data engineering\n",
    "df = df.fillna(value = \"x\")\n",
    "df[\"text\"] = df[\"title\"] + \" \" + df[\"body\"]\n",
    "df = df.drop(columns = [\"title\", \"body\"])"
   ]
  },
  {
   "cell_type": "code",
   "execution_count": 4,
   "id": "62cd9c34-3abb-4ea8-86f0-87b9db653d5a",
   "metadata": {},
   "outputs": [
    {
     "data": {
      "text/html": [
       "<div>\n",
       "<style scoped>\n",
       "    .dataframe tbody tr th:only-of-type {\n",
       "        vertical-align: middle;\n",
       "    }\n",
       "\n",
       "    .dataframe tbody tr th {\n",
       "        vertical-align: top;\n",
       "    }\n",
       "\n",
       "    .dataframe thead th {\n",
       "        text-align: right;\n",
       "    }\n",
       "</style>\n",
       "<table border=\"1\" class=\"dataframe\">\n",
       "  <thead>\n",
       "    <tr style=\"text-align: right;\">\n",
       "      <th></th>\n",
       "      <th>ticket_type</th>\n",
       "      <th>category</th>\n",
       "      <th>sub_category1</th>\n",
       "      <th>sub_category2</th>\n",
       "      <th>business_service</th>\n",
       "      <th>urgency</th>\n",
       "      <th>impact</th>\n",
       "      <th>text</th>\n",
       "    </tr>\n",
       "  </thead>\n",
       "  <tbody>\n",
       "    <tr>\n",
       "      <th>0</th>\n",
       "      <td>1</td>\n",
       "      <td>4</td>\n",
       "      <td>2</td>\n",
       "      <td>21</td>\n",
       "      <td>71</td>\n",
       "      <td>3</td>\n",
       "      <td>4</td>\n",
       "      <td>x hi since recruiter lead permission approve r...</td>\n",
       "    </tr>\n",
       "    <tr>\n",
       "      <th>1</th>\n",
       "      <td>1</td>\n",
       "      <td>6</td>\n",
       "      <td>22</td>\n",
       "      <td>7</td>\n",
       "      <td>26</td>\n",
       "      <td>3</td>\n",
       "      <td>4</td>\n",
       "      <td>connection with icon icon dear please setup ic...</td>\n",
       "    </tr>\n",
       "    <tr>\n",
       "      <th>2</th>\n",
       "      <td>1</td>\n",
       "      <td>5</td>\n",
       "      <td>13</td>\n",
       "      <td>7</td>\n",
       "      <td>32</td>\n",
       "      <td>3</td>\n",
       "      <td>4</td>\n",
       "      <td>work experience user work experience user hi w...</td>\n",
       "    </tr>\n",
       "    <tr>\n",
       "      <th>3</th>\n",
       "      <td>1</td>\n",
       "      <td>5</td>\n",
       "      <td>13</td>\n",
       "      <td>7</td>\n",
       "      <td>32</td>\n",
       "      <td>3</td>\n",
       "      <td>4</td>\n",
       "      <td>requesting for meeting requesting meeting hi p...</td>\n",
       "    </tr>\n",
       "    <tr>\n",
       "      <th>4</th>\n",
       "      <td>1</td>\n",
       "      <td>4</td>\n",
       "      <td>2</td>\n",
       "      <td>76</td>\n",
       "      <td>4</td>\n",
       "      <td>3</td>\n",
       "      <td>4</td>\n",
       "      <td>reset passwords for external accounts re expir...</td>\n",
       "    </tr>\n",
       "  </tbody>\n",
       "</table>\n",
       "</div>"
      ],
      "text/plain": [
       "   ticket_type  category  sub_category1  sub_category2  business_service  \\\n",
       "0            1         4              2             21                71   \n",
       "1            1         6             22              7                26   \n",
       "2            1         5             13              7                32   \n",
       "3            1         5             13              7                32   \n",
       "4            1         4              2             76                 4   \n",
       "\n",
       "   urgency  impact                                               text  \n",
       "0        3       4  x hi since recruiter lead permission approve r...  \n",
       "1        3       4  connection with icon icon dear please setup ic...  \n",
       "2        3       4  work experience user work experience user hi w...  \n",
       "3        3       4  requesting for meeting requesting meeting hi p...  \n",
       "4        3       4  reset passwords for external accounts re expir...  "
      ]
     },
     "execution_count": 4,
     "metadata": {},
     "output_type": "execute_result"
    }
   ],
   "source": [
    "df.head()"
   ]
  },
  {
   "cell_type": "code",
   "execution_count": 5,
   "id": "78433070-6184-462f-b7c5-7a88f694e608",
   "metadata": {},
   "outputs": [
    {
     "data": {
      "text/plain": [
       "ticket_type\n",
       "1    34621\n",
       "0    13928\n",
       "Name: count, dtype: int64"
      ]
     },
     "execution_count": 5,
     "metadata": {},
     "output_type": "execute_result"
    }
   ],
   "source": [
    "df.ticket_type.value_counts()"
   ]
  },
  {
   "cell_type": "code",
   "execution_count": 6,
   "id": "d39c872d-79ae-4ddb-ae5d-bd1bee909e4b",
   "metadata": {},
   "outputs": [],
   "source": [
    "# Process data using count vectorization\n",
    "count_vec = CountVectorizer()\n",
    "bow = count_vec.fit_transform(df[\"text\"])\n",
    "bow = np.array(bow.todense())"
   ]
  },
  {
   "cell_type": "code",
   "execution_count": 7,
   "id": "17d2a1fb-bba4-407b-af75-221cd5cac9b5",
   "metadata": {},
   "outputs": [],
   "source": [
    "data = bow\n",
    "target = df[\"ticket_type\"]"
   ]
  },
  {
   "cell_type": "code",
   "execution_count": 8,
   "id": "194c4812-804d-4578-b4b3-6806fd3de66b",
   "metadata": {},
   "outputs": [],
   "source": [
    "# Split test and training data\n",
    "X_train, X_test, y_train, y_test = train_test_split(data, target, test_size = 0.2, stratify = target)"
   ]
  },
  {
   "cell_type": "code",
   "execution_count": 9,
   "id": "d5e697d6-b137-459e-b8e3-73af329c2439",
   "metadata": {},
   "outputs": [],
   "source": [
    "# Fit a Multinomial Naive Bayes model\n",
    "model = MultinomialNB().fit(X_train, y_train)\n",
    "y_pred = model.predict(X_test)"
   ]
  },
  {
   "cell_type": "code",
   "execution_count": 10,
   "id": "a4e49e97-6ced-49cf-9666-0191848b0df5",
   "metadata": {},
   "outputs": [
    {
     "name": "stdout",
     "output_type": "stream",
     "text": [
      "Accuracy: 0.978\n",
      "F1 score: 0.974\n"
     ]
    }
   ],
   "source": [
    "# Assess model performance\n",
    "print(\"Accuracy:\", round(accuracy_score(y_test, y_pred), 3))\n",
    "print(\"F1 score:\", round(f1_score(y_test, y_pred, average = \"macro\"), 3))"
   ]
  },
  {
   "cell_type": "code",
   "execution_count": 11,
   "id": "63cd34a0-dcd7-4bb7-8dce-4137fadaec53",
   "metadata": {},
   "outputs": [
    {
     "name": "stdout",
     "output_type": "stream",
     "text": [
      "              precision    recall  f1-score   support\n",
      "\n",
      "           0       0.94      0.99      0.96      2786\n",
      "           1       1.00      0.97      0.98      6924\n",
      "\n",
      "    accuracy                           0.98      9710\n",
      "   macro avg       0.97      0.98      0.97      9710\n",
      "weighted avg       0.98      0.98      0.98      9710\n",
      "\n"
     ]
    }
   ],
   "source": [
    "print(classification_report(y_test, y_pred))"
   ]
  },
  {
   "cell_type": "markdown",
   "id": "b2dc4436-4d41-4bbb-a986-62f00aa582e2",
   "metadata": {},
   "source": [
    "#### **Observations:** Our model can classify tickets with high accuracy but only based on the first column \"ticket_type\". With the creation of other models to classify the other columns, it would be possible to automate completely the process of ticket classification."
   ]
  }
 ],
 "metadata": {
  "kernelspec": {
   "display_name": "Python 3 (ipykernel)",
   "language": "python",
   "name": "python3"
  },
  "language_info": {
   "codemirror_mode": {
    "name": "ipython",
    "version": 3
   },
   "file_extension": ".py",
   "mimetype": "text/x-python",
   "name": "python",
   "nbconvert_exporter": "python",
   "pygments_lexer": "ipython3",
   "version": "3.11.0"
  }
 },
 "nbformat": 4,
 "nbformat_minor": 5
}
